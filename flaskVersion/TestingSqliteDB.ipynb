{
 "cells": [
  {
   "cell_type": "code",
   "execution_count": 1,
   "id": "dfe49bde",
   "metadata": {},
   "outputs": [],
   "source": [
    "import sqlite3\n",
    "import os"
   ]
  },
  {
   "cell_type": "code",
   "execution_count": 2,
   "id": "c3abd3e6",
   "metadata": {},
   "outputs": [],
   "source": [
    "# delete the db to start over during testing\n",
    "os.remove('notebook.db') "
   ]
  },
  {
   "cell_type": "code",
   "execution_count": 3,
   "id": "3e0ddb93",
   "metadata": {},
   "outputs": [],
   "source": [
    "con = sqlite3.connect('notebook.db')\n",
    "cur = con.cursor()"
   ]
  },
  {
   "cell_type": "code",
   "execution_count": 4,
   "id": "6c21fd14",
   "metadata": {},
   "outputs": [],
   "source": [
    "try: \n",
    "    cur.execute(\"\"\"CREATE TABLE people (\n",
    "    id INTEGER,\n",
    "    first_name TEXT,\n",
    "    last_name TEXT,\n",
    "    age INTEGER\n",
    "    )    \n",
    "    \"\"\")\n",
    "except:\n",
    "    print('table already made')"
   ]
  },
  {
   "cell_type": "code",
   "execution_count": 5,
   "id": "99029a73",
   "metadata": {},
   "outputs": [],
   "source": [
    "names = [(0, 'betty', 'lafrance', 30), (1, 'quin', 'lueker', 30), (2, 'john', 'johnson', 25), (3, 'will', 'williams', 45), (4, 'thomas', 'michaels', 31), (5, 'jennifer', 'connors', 42), (6, 'joe', 'mitchel', 31), (7, 'lisa', 'lopez', 22), (8, 'cade', 'rogers', 44), (9, 'mark', 'edwards', 50), (10, 'grace', 'richardson', 36), (11, 'matthew', 'robinson', 25), (12, 'stephanie', 'doe', 49), (13, 'mary', 'smith', 44), (14, 'charles', 'nelson', 22), (15, 'patricia', 'oneal', 28)]"
   ]
  },
  {
   "cell_type": "code",
   "execution_count": 6,
   "id": "f22630a6",
   "metadata": {},
   "outputs": [
    {
     "data": {
      "text/plain": [
       "<sqlite3.Cursor at 0x107b3ef10>"
      ]
     },
     "execution_count": 6,
     "metadata": {},
     "output_type": "execute_result"
    }
   ],
   "source": [
    "cur.executemany(\"insert into people values (?, ?, ?, ?)\", names)"
   ]
  },
  {
   "cell_type": "code",
   "execution_count": 7,
   "id": "f817ebed",
   "metadata": {},
   "outputs": [],
   "source": [
    "# pushes this code into the database\n",
    "con.commit() "
   ]
  },
  {
   "cell_type": "code",
   "execution_count": 10,
   "id": "a7aea433",
   "metadata": {},
   "outputs": [
    {
     "data": {
      "text/plain": [
       "[('betty',),\n",
       " ('quin',),\n",
       " ('will',),\n",
       " ('thomas',),\n",
       " ('jennifer',),\n",
       " ('joe',),\n",
       " ('cade',),\n",
       " ('mark',),\n",
       " ('grace',),\n",
       " ('stephanie',),\n",
       " ('mary',)]"
      ]
     },
     "execution_count": 10,
     "metadata": {},
     "output_type": "execute_result"
    }
   ],
   "source": [
    "maxAge = 50\n",
    "minAge = 30\n",
    "cur.execute(\"\"\"select first_name from people \n",
    "        where age >= :minAge\n",
    "        and age <= :maxAge\"\"\"\n",
    "            , {'minAge': minAge, 'maxAge': maxAge}).fetchall()"
   ]
  },
  {
   "cell_type": "code",
   "execution_count": 20,
   "id": "80ac3469",
   "metadata": {},
   "outputs": [],
   "source": [
    "# close connection to the db\n",
    "con.close()"
   ]
  },
  {
   "cell_type": "code",
   "execution_count": null,
   "id": "4b940718",
   "metadata": {},
   "outputs": [],
   "source": []
  }
 ],
 "metadata": {
  "kernelspec": {
   "display_name": "Python 3 (ipykernel)",
   "language": "python",
   "name": "python3"
  },
  "language_info": {
   "codemirror_mode": {
    "name": "ipython",
    "version": 3
   },
   "file_extension": ".py",
   "mimetype": "text/x-python",
   "name": "python",
   "nbconvert_exporter": "python",
   "pygments_lexer": "ipython3",
   "version": "3.8.11"
  }
 },
 "nbformat": 4,
 "nbformat_minor": 5
}
