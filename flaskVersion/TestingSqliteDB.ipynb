{
 "cells": [
  {
   "cell_type": "code",
   "execution_count": 16,
   "id": "dfe49bde",
   "metadata": {},
   "outputs": [],
   "source": [
    "import sqlite3\n",
    "import os"
   ]
  },
  {
   "cell_type": "code",
   "execution_count": 52,
   "id": "c3abd3e6",
   "metadata": {},
   "outputs": [],
   "source": [
    "# delete the db to start over during testing\n",
    "os.remove('notebook.db') "
   ]
  },
  {
   "cell_type": "code",
   "execution_count": 53,
   "id": "3e0ddb93",
   "metadata": {},
   "outputs": [],
   "source": [
    "con = sqlite3.connect('notebook.db')\n",
    "cur = con.cursor()"
   ]
  },
  {
   "cell_type": "code",
   "execution_count": 54,
   "id": "6c21fd14",
   "metadata": {},
   "outputs": [],
   "source": [
    "try: \n",
    "    cur.execute(\"\"\"CREATE TABLE people (\n",
    "    id INTEGER,\n",
    "    first_name TEXT,\n",
    "    last_name TEXT,\n",
    "    age INTEGER\n",
    "    )    \n",
    "    \"\"\")\n",
    "except:\n",
    "    print('table already made')"
   ]
  },
  {
   "cell_type": "code",
   "execution_count": 55,
   "id": "c19038f2",
   "metadata": {},
   "outputs": [],
   "source": [
    "try: \n",
    "    cur.execute(\"\"\"CREATE TABLE hobby (\n",
    "    name TEXT,\n",
    "    kind TEXT,\n",
    "    setting TEXT\n",
    "    )    \n",
    "    \"\"\")\n",
    "except:\n",
    "    print('table already made')"
   ]
  },
  {
   "cell_type": "code",
   "execution_count": 56,
   "id": "4b940718",
   "metadata": {},
   "outputs": [],
   "source": [
    "class Hobby:\n",
    "    def __init__(self, name, kind, setting):\n",
    "        self.name = name\n",
    "        self.kind = kind\n",
    "        self.setting = setting"
   ]
  },
  {
   "cell_type": "code",
   "execution_count": 57,
   "id": "d32a4b6d",
   "metadata": {},
   "outputs": [],
   "source": [
    "biking = Hobby('biking', 'exercise', 'outdoor')\n",
    "swimming = Hobby('swimming', 'exercise', 'indoor')\n",
    "chess = Hobby('chess', 'intellectual', 'indoor')\n",
    "soccer = Hobby('soccer','sport','outdoor')\n",
    "hiking = Hobby('hiking','exercise','outdoor')\n",
    "camping = Hobby('camping', 'recreation', 'outdoor')\n",
    "cooking = Hobby('cooking','creative','indoor')\n",
    "painting = Hobby('painting','creative','indoor')\n",
    "fishing = Hobby('fishing','recreation','outdoor')\n",
    "tennis = Hobby('tennis','sport','outdoor')\n",
    "basketball = Hobby('basketball', 'sport','indoor')\n",
    "running = Hobby('running','exercise','outdoor')\n",
    "writing = Hobby('writing','intellectual','indoor')\n",
    "photography = Hobby('photography','creative','outdoor')\n",
    "\n",
    "hobbies = [biking, swimming, chess, soccer, hiking, camping, cooking, painting, fishing, tennis, basketball, running, writing, photography]"
   ]
  },
  {
   "cell_type": "code",
   "execution_count": 58,
   "id": "3c0e7949",
   "metadata": {},
   "outputs": [],
   "source": [
    "def hobbyTuple(hobbies):\n",
    "    h_list = []\n",
    "    for hobby in hobbies:\n",
    "        h_list.append((hobby.name,hobby.kind,hobby.setting))\n",
    "    return h_list\n",
    "\n",
    "h_list = hobbyTuple(hobbies)"
   ]
  },
  {
   "cell_type": "code",
   "execution_count": 59,
   "id": "99029a73",
   "metadata": {},
   "outputs": [],
   "source": [
    "names = [(0, 'betty', 'lafrance', 30), (1, 'quin', 'lueker', 30), (2, 'john', 'johnson', 25), (3, 'will', 'williams', 45), (4, 'thomas', 'michaels', 31), (5, 'jennifer', 'connors', 42), (6, 'joe', 'mitchel', 31), (7, 'lisa', 'lopez', 22), (8, 'cade', 'rogers', 44), (9, 'mark', 'edwards', 50), (10, 'grace', 'richardson', 36), (11, 'matthew', 'robinson', 25), (12, 'stephanie', 'doe', 49), (13, 'mary', 'smith', 44), (14, 'charles', 'nelson', 22), (15, 'patricia', 'oneal', 28)]"
   ]
  },
  {
   "cell_type": "code",
   "execution_count": 60,
   "id": "f22630a6",
   "metadata": {},
   "outputs": [
    {
     "data": {
      "text/plain": [
       "<sqlite3.Cursor at 0x109ef72d0>"
      ]
     },
     "execution_count": 60,
     "metadata": {},
     "output_type": "execute_result"
    }
   ],
   "source": [
    "cur.executemany(\"insert into people values (?, ?, ?, ?)\", names)"
   ]
  },
  {
   "cell_type": "code",
   "execution_count": 61,
   "id": "11809dd6",
   "metadata": {},
   "outputs": [
    {
     "data": {
      "text/plain": [
       "<sqlite3.Cursor at 0x109ef72d0>"
      ]
     },
     "execution_count": 61,
     "metadata": {},
     "output_type": "execute_result"
    }
   ],
   "source": [
    "cur.executemany(\"insert into hobby values (?, ?, ?)\", h_list)"
   ]
  },
  {
   "cell_type": "code",
   "execution_count": 62,
   "id": "a7aea433",
   "metadata": {},
   "outputs": [
    {
     "data": {
      "text/plain": [
       "[('betty',),\n",
       " ('quin',),\n",
       " ('will',),\n",
       " ('thomas',),\n",
       " ('jennifer',),\n",
       " ('joe',),\n",
       " ('cade',),\n",
       " ('mark',),\n",
       " ('grace',),\n",
       " ('stephanie',),\n",
       " ('mary',)]"
      ]
     },
     "execution_count": 62,
     "metadata": {},
     "output_type": "execute_result"
    }
   ],
   "source": [
    "maxAge = 50\n",
    "minAge = 30\n",
    "cur.execute(\"\"\"select first_name from people \n",
    "        where age >= :minAge\n",
    "        and age <= :maxAge\"\"\"\n",
    "            , {'minAge': minAge, 'maxAge': maxAge}).fetchall()"
   ]
  },
  {
   "cell_type": "code",
   "execution_count": 67,
   "id": "23ba63b4",
   "metadata": {},
   "outputs": [
    {
     "data": {
      "text/plain": [
       "[('biking',),\n",
       " ('soccer',),\n",
       " ('hiking',),\n",
       " ('camping',),\n",
       " ('fishing',),\n",
       " ('tennis',),\n",
       " ('running',),\n",
       " ('photography',)]"
      ]
     },
     "execution_count": 67,
     "metadata": {},
     "output_type": "execute_result"
    }
   ],
   "source": [
    "cur.execute(\"\"\"select name from hobby where setting = 'outdoor' \"\"\").fetchall()"
   ]
  },
  {
   "cell_type": "code",
   "execution_count": 7,
   "id": "f817ebed",
   "metadata": {},
   "outputs": [],
   "source": [
    "# pushes this code into the database\n",
    "con.commit() "
   ]
  },
  {
   "cell_type": "code",
   "execution_count": 20,
   "id": "80ac3469",
   "metadata": {},
   "outputs": [],
   "source": [
    "# close connection to the db\n",
    "con.close()"
   ]
  },
  {
   "cell_type": "code",
   "execution_count": null,
   "id": "488c59ef",
   "metadata": {},
   "outputs": [],
   "source": []
  }
 ],
 "metadata": {
  "kernelspec": {
   "display_name": "Python 3 (ipykernel)",
   "language": "python",
   "name": "python3"
  },
  "language_info": {
   "codemirror_mode": {
    "name": "ipython",
    "version": 3
   },
   "file_extension": ".py",
   "mimetype": "text/x-python",
   "name": "python",
   "nbconvert_exporter": "python",
   "pygments_lexer": "ipython3",
   "version": "3.8.11"
  }
 },
 "nbformat": 4,
 "nbformat_minor": 5
}
