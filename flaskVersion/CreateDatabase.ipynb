{
 "cells": [
  {
   "cell_type": "code",
   "execution_count": 3,
   "id": "ff8471c4",
   "metadata": {},
   "outputs": [],
   "source": [
    "import sqlite3\n",
    "import os"
   ]
  },
  {
   "cell_type": "code",
   "execution_count": 4,
   "id": "0861724a",
   "metadata": {},
   "outputs": [],
   "source": [
    "con = sqlite3.connect('database.db')\n",
    "cur = con.cursor()"
   ]
  },
  {
   "cell_type": "code",
   "execution_count": null,
   "id": "9e292e0d",
   "metadata": {},
   "outputs": [],
   "source": [
    "con.commit()"
   ]
  },
  {
   "cell_type": "code",
   "execution_count": null,
   "id": "7c224a23",
   "metadata": {
    "collapsed": true
   },
   "outputs": [],
   "source": [
    "os.remove('database.db')"
   ]
  },
  {
   "cell_type": "code",
   "execution_count": 21,
   "id": "e65c0e68",
   "metadata": {},
   "outputs": [
    {
     "name": "stdout",
     "output_type": "stream",
     "text": [
      "table already made\n"
     ]
    }
   ],
   "source": [
    "try: \n",
    "    cur.execute(\"\"\"CREATE TABLE Person (\n",
    "    id INTEGER,\n",
    "    first_name TEXT,\n",
    "    last_name TEXT,\n",
    "    age INTEGER\n",
    "    )    \n",
    "    \"\"\")\n",
    "except:\n",
    "    print('table already made')"
   ]
  },
  {
   "cell_type": "code",
   "execution_count": 45,
   "id": "79209589",
   "metadata": {},
   "outputs": [
    {
     "ename": "ProgrammingError",
     "evalue": "Incorrect number of bindings supplied. The current statement uses 1, and there are 4 supplied.",
     "output_type": "error",
     "traceback": [
      "\u001b[1;31m---------------------------------------------------------------------------\u001b[0m",
      "\u001b[1;31mProgrammingError\u001b[0m                          Traceback (most recent call last)",
      "Input \u001b[1;32mIn [45]\u001b[0m, in \u001b[0;36m<cell line: 1>\u001b[1;34m()\u001b[0m\n\u001b[1;32m----> 1\u001b[0m \u001b[43mcur\u001b[49m\u001b[38;5;241;43m.\u001b[39;49m\u001b[43mexecute\u001b[49m\u001b[43m(\u001b[49m\u001b[38;5;124;43m\"\"\"\u001b[39;49m\u001b[38;5;124;43mINSERT INTO Person (id, first_name, last_name, age) \u001b[39;49m\n\u001b[0;32m      2\u001b[0m \u001b[38;5;124;43mVALUES (1, ?, \u001b[39;49m\u001b[38;5;124;43m'\u001b[39;49m\u001b[38;5;124;43mGray\u001b[39;49m\u001b[38;5;124;43m'\u001b[39;49m\u001b[38;5;124;43m, 20)\u001b[39;49m\u001b[38;5;124;43m\"\"\"\u001b[39;49m\u001b[43m,\u001b[49m\u001b[43m \u001b[49m\u001b[38;5;124;43m\"\u001b[39;49m\u001b[38;5;124;43mCade\u001b[39;49m\u001b[38;5;124;43m\"\u001b[39;49m\u001b[43m)\u001b[49m\n\u001b[0;32m      4\u001b[0m cur\u001b[38;5;241m.\u001b[39mexecute(\u001b[38;5;124m\"\"\"\u001b[39m\u001b[38;5;124mINSERT INTO Person (id, first_name, last_name, age)\u001b[39m\n\u001b[0;32m      5\u001b[0m \u001b[38;5;124mVALUES (2, \u001b[39m\u001b[38;5;124m'\u001b[39m\u001b[38;5;124mLindsey\u001b[39m\u001b[38;5;124m'\u001b[39m\u001b[38;5;124m, \u001b[39m\u001b[38;5;124m'\u001b[39m\u001b[38;5;124mKoch\u001b[39m\u001b[38;5;124m'\u001b[39m\u001b[38;5;124m, 25)\u001b[39m\u001b[38;5;124m\"\"\"\u001b[39m)\n\u001b[0;32m      7\u001b[0m cur\u001b[38;5;241m.\u001b[39mexecute(\u001b[38;5;124m\"\"\"\u001b[39m\u001b[38;5;124mINSERT INTO Person (id, first_name, last_name, age)\u001b[39m\n\u001b[0;32m      8\u001b[0m \u001b[38;5;124mVALUES (3, \u001b[39m\u001b[38;5;124m'\u001b[39m\u001b[38;5;124mJohanna\u001b[39m\u001b[38;5;124m'\u001b[39m\u001b[38;5;124m, \u001b[39m\u001b[38;5;124m'\u001b[39m\u001b[38;5;124mWarner\u001b[39m\u001b[38;5;124m'\u001b[39m\u001b[38;5;124m, 30)\u001b[39m\u001b[38;5;124m\"\"\"\u001b[39m)\n",
      "\u001b[1;31mProgrammingError\u001b[0m: Incorrect number of bindings supplied. The current statement uses 1, and there are 4 supplied."
     ]
    }
   ],
   "source": [
    "cur.execute(\"\"\"INSERT INTO Person (id, first_name, last_name, age) \n",
    "VALUES (1, 'Philip', 'Gray', 20)\"\"\")\n",
    "\n",
    "cur.execute(\"\"\"INSERT INTO Person (id, first_name, last_name, age)\n",
    "VALUES (2, 'Lindsey', 'Koch', 25)\"\"\")\n",
    "\n",
    "cur.execute(\"\"\"INSERT INTO Person (id, first_name, last_name, age)\n",
    "VALUES (3, 'Johanna', 'Warner', 30)\"\"\")"
   ]
  },
  {
   "cell_type": "code",
   "execution_count": 6,
   "id": "af77fe3f",
   "metadata": {},
   "outputs": [],
   "source": [
    "try: \n",
    "    cur.execute(\"\"\"CREATE TABLE Hobby (\n",
    "    name TEXT,\n",
    "    isAthletic INTEGER,\n",
    "    isIntellectual INTEGER,\n",
    "    isSocial INTEGER\n",
    "    )    \n",
    "    \"\"\")\n",
    "except:\n",
    "    print('table already made')"
   ]
  },
  {
   "cell_type": "code",
   "execution_count": 7,
   "id": "b2bc9449",
   "metadata": {},
   "outputs": [],
   "source": [
    "try: \n",
    "    cur.execute(\"\"\"CREATE TABLE Education (\n",
    "    instName TEXT,\n",
    "    address TEXT,\n",
    "    type TEXT\n",
    "    )    \n",
    "    \"\"\")\n",
    "except:\n",
    "    print('table already made')"
   ]
  },
  {
   "cell_type": "code",
   "execution_count": 8,
   "id": "66251217",
   "metadata": {},
   "outputs": [],
   "source": [
    "try: \n",
    "    cur.execute(\"\"\"CREATE TABLE Profession (\n",
    "    jobTitle TEXT,\n",
    "    jobField TEXT\n",
    "    )    \n",
    "    \"\"\")\n",
    "except:\n",
    "    print('table already made')"
   ]
  },
  {
   "cell_type": "code",
   "execution_count": 9,
   "id": "e1b0eb3a",
   "metadata": {},
   "outputs": [],
   "source": [
    "try: \n",
    "    cur.execute(\"\"\"CREATE TABLE Location (\n",
    "    zipCode INTEGER,\n",
    "    city TEXT,\n",
    "    state TEXT\n",
    "    )    \n",
    "    \"\"\")\n",
    "except:\n",
    "    print('table already made')"
   ]
  },
  {
   "cell_type": "code",
   "execution_count": 10,
   "id": "5bfd1e8c",
   "metadata": {},
   "outputs": [],
   "source": [
    "try: \n",
    "    cur.execute(\"\"\"CREATE TABLE preferences (\n",
    "    personID INTEGER,\n",
    "    minAge INTEGER,\n",
    "    maxAge INTEGER,\n",
    "    \n",
    "    scoreAthletic REAL,\n",
    "    scoreIntellectual REAL,\n",
    "    scoreSocial REAL\n",
    "    )    \n",
    "    \"\"\")\n",
    "except:\n",
    "    print('table already made')"
   ]
  },
  {
   "cell_type": "code",
   "execution_count": 11,
   "id": "699e035c",
   "metadata": {},
   "outputs": [],
   "source": [
    "try: \n",
    "    cur.execute(\"\"\"CREATE TABLE livesIn (\n",
    "    personID INTEGER,\n",
    "    zipCode INTEGER,\n",
    "    address TEXT\n",
    "    )    \n",
    "    \"\"\")\n",
    "except:\n",
    "    print('table already made')"
   ]
  },
  {
   "cell_type": "code",
   "execution_count": 12,
   "id": "13d17661",
   "metadata": {},
   "outputs": [],
   "source": [
    "try: \n",
    "    cur.execute(\"\"\"CREATE TABLE worksAs (\n",
    "    personID INTEGER,\n",
    "    jobTitle TEXT,\n",
    "    company TEXT,\n",
    "    yearsOfExperience INT\n",
    "    )    \n",
    "    \"\"\")\n",
    "except:\n",
    "    print('table already made')"
   ]
  },
  {
   "cell_type": "code",
   "execution_count": 13,
   "id": "ee9067bf",
   "metadata": {},
   "outputs": [],
   "source": [
    "try: \n",
    "    cur.execute(\"\"\"CREATE TABLE studied (\n",
    "    personID INTEGER,\n",
    "    instName TEXT,\n",
    "    gradYear INTEGER,\n",
    "    major TEXT,\n",
    "    degreeType TEXT\n",
    "    )    \n",
    "    \"\"\")\n",
    "except:\n",
    "    print('table already made')"
   ]
  },
  {
   "cell_type": "code",
   "execution_count": 14,
   "id": "e87aa070",
   "metadata": {},
   "outputs": [],
   "source": [
    "try: \n",
    "    cur.execute(\"\"\"CREATE TABLE hasHobby (\n",
    "    personID INTEGER,\n",
    "    hobbyName TEXT,\n",
    "    experience TEXT,\n",
    "    yearsPracticed INTEGER\n",
    "    )    \n",
    "    \"\"\")\n",
    "except:\n",
    "    print('table already made')"
   ]
  },
  {
   "cell_type": "code",
   "execution_count": 15,
   "id": "d86ecfb8",
   "metadata": {},
   "outputs": [],
   "source": [
    "try: \n",
    "    cur.execute(\"\"\"CREATE TABLE match (\n",
    "    personID INTEGER,\n",
    "    matchID INTEGER,\n",
    "    dateMatched TEXT,\n",
    "    matchStrength INTEGER\n",
    "    )    \n",
    "    \"\"\")\n",
    "except:\n",
    "    print('table already made')"
   ]
  },
  {
   "cell_type": "code",
   "execution_count": 42,
   "id": "ea3489e7",
   "metadata": {},
   "outputs": [],
   "source": [
    "profMatch = cur.execute(\"SELECT * FROM Person\")"
   ]
  },
  {
   "cell_type": "code",
   "execution_count": 40,
   "id": "a2a0713e",
   "metadata": {},
   "outputs": [],
   "source": [
    "profMatch.remove((1, 'Philip', 'Gray', 20))"
   ]
  },
  {
   "cell_type": "code",
   "execution_count": 44,
   "id": "d2140636",
   "metadata": {},
   "outputs": [
    {
     "data": {
      "text/plain": [
       "sqlite3.Cursor"
      ]
     },
     "execution_count": 44,
     "metadata": {},
     "output_type": "execute_result"
    }
   ],
   "source": [
    "type(profMatch)"
   ]
  },
  {
   "cell_type": "code",
   "execution_count": null,
   "id": "051dd415",
   "metadata": {},
   "outputs": [],
   "source": []
  }
 ],
 "metadata": {
  "kernelspec": {
   "display_name": "Python 3 (ipykernel)",
   "language": "python",
   "name": "python3"
  },
  "language_info": {
   "codemirror_mode": {
    "name": "ipython",
    "version": 3
   },
   "file_extension": ".py",
   "mimetype": "text/x-python",
   "name": "python",
   "nbconvert_exporter": "python",
   "pygments_lexer": "ipython3",
   "version": "3.10.4"
  }
 },
 "nbformat": 4,
 "nbformat_minor": 5
}
