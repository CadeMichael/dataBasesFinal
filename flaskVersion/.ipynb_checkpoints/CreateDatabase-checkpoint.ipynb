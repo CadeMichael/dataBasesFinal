{
 "cells": [
  {
   "cell_type": "code",
   "execution_count": null,
   "id": "ff8471c4",
   "metadata": {},
   "outputs": [],
   "source": [
    "import sqlite3\n",
    "import os"
   ]
  },
  {
   "cell_type": "code",
   "execution_count": null,
   "id": "0861724a",
   "metadata": {},
   "outputs": [],
   "source": [
    "con = sqlite3.connect('database.db')\n",
    "cur = con.cursor()"
   ]
  },
  {
   "cell_type": "code",
   "execution_count": null,
   "id": "7c224a23",
   "metadata": {
    "collapsed": true
   },
   "outputs": [],
   "source": [
    "os.remove('database.db')"
   ]
  },
  {
   "cell_type": "code",
   "execution_count": null,
   "id": "e65c0e68",
   "metadata": {},
   "outputs": [],
   "source": [
    "try: \n",
    "    cur.execute(\"\"\"CREATE TABLE Person (\n",
    "    id INTEGER,\n",
    "    first_name TEXT,\n",
    "    last_name TEXT,\n",
    "    age INTEGER\n",
    "    )    \n",
    "    \"\"\")\n",
    "except:\n",
    "    print('table already made')"
   ]
  },
  {
   "cell_type": "code",
   "execution_count": null,
   "id": "af77fe3f",
   "metadata": {},
   "outputs": [],
   "source": [
    "try: \n",
    "    cur.execute(\"\"\"CREATE TABLE Hobby (\n",
    "    name TEXT,\n",
    "    scoreAthletic REAL,\n",
    "    scoreIntellectual REAL,\n",
    "    scoreSocial REAL\n",
    "    )    \n",
    "    \"\"\")\n",
    "except:\n",
    "    print('table already made')"
   ]
  },
  {
   "cell_type": "code",
   "execution_count": null,
   "id": "b2bc9449",
   "metadata": {},
   "outputs": [],
   "source": [
    "try: \n",
    "    cur.execute(\"\"\"CREATE TABLE Education (\n",
    "    instName TEXT,\n",
    "    address TEXT,\n",
    "    type TEXT\n",
    "    )    \n",
    "    \"\"\")\n",
    "except:\n",
    "    print('table already made')"
   ]
  },
  {
   "cell_type": "code",
   "execution_count": null,
   "id": "66251217",
   "metadata": {},
   "outputs": [],
   "source": [
    "try: \n",
    "    cur.execute(\"\"\"CREATE TABLE Profession (\n",
    "    jobTitle TEXT,\n",
    "    scoreAthletic REAL,\n",
    "    scoreIntellectual REAL,\n",
    "    scoreSocial REAL\n",
    "    )    \n",
    "    \"\"\")\n",
    "except:\n",
    "    print('table already made')"
   ]
  },
  {
   "cell_type": "code",
   "execution_count": null,
   "id": "e1b0eb3a",
   "metadata": {},
   "outputs": [],
   "source": [
    "try: \n",
    "    cur.execute(\"\"\"CREATE TABLE Location (\n",
    "    zipCode INTEGER,\n",
    "    city TEXT,\n",
    "    state TEXT\n",
    "    )    \n",
    "    \"\"\")\n",
    "except:\n",
    "    print('table already made')"
   ]
  },
  {
   "cell_type": "code",
   "execution_count": null,
   "id": "5bfd1e8c",
   "metadata": {},
   "outputs": [],
   "source": [
    "try: \n",
    "    cur.execute(\"\"\"CREATE TABLE Preferences (\n",
    "    minAge INTEGER,\n",
    "    maxAge INTEGER,\n",
    "    \n",
    "    scoreAthletic REAL,\n",
    "    scoreIntellectual REAL,\n",
    "    scoreSocial REAL\n",
    "    )    \n",
    "    \"\"\")\n",
    "except:\n",
    "    print('table already made')"
   ]
  },
  {
   "cell_type": "code",
   "execution_count": null,
   "id": "699e035c",
   "metadata": {},
   "outputs": [],
   "source": []
  }
 ],
 "metadata": {
  "kernelspec": {
   "display_name": "Python 3 (ipykernel)",
   "language": "python",
   "name": "python3"
  },
  "language_info": {
   "codemirror_mode": {
    "name": "ipython",
    "version": 3
   },
   "file_extension": ".py",
   "mimetype": "text/x-python",
   "name": "python",
   "nbconvert_exporter": "python",
   "pygments_lexer": "ipython3",
   "version": "3.10.4"
  }
 },
 "nbformat": 4,
 "nbformat_minor": 5
}
