{
 "cells": [
  {
   "cell_type": "code",
   "execution_count": 3,
   "id": "b4537d41",
   "metadata": {},
   "outputs": [],
   "source": [
    "import sqlite3\n",
    "import os\n",
    "con = sqlite3.connect('notebook.db')\n",
    "cur = con.cursor()"
   ]
  },
  {
   "cell_type": "code",
   "execution_count": 34,
   "id": "3829b3d3",
   "metadata": {},
   "outputs": [
    {
     "data": {
      "text/plain": [
       "[('john', 'lopez'), ('thomas', 'edwards'), ('stephanie', 'johnson')]"
      ]
     },
     "execution_count": 34,
     "metadata": {},
     "output_type": "execute_result"
    }
   ],
   "source": [
    "h_name = \"fishing\"\n",
    "\n",
    "cur.execute(\"\"\"select first_name, last_name \n",
    "    from people, hasHobby\n",
    "    Where id = pid \n",
    "        And hobbyName = :hName\"\"\", \n",
    "    { 'hName' : h_name}).fetchall()"
   ]
  },
  {
   "cell_type": "code",
   "execution_count": 40,
   "id": "543ef9c2",
   "metadata": {},
   "outputs": [
    {
     "name": "stdout",
     "output_type": "stream",
     "text": [
      "\n",
      "    select first_name, last_name, age \n",
      "    from people, hasHobby, hobby\n",
      "    Where id = pid AND hobbyName = name\n",
      "    AND name = 'fishing'\n"
     ]
    },
    {
     "data": {
      "text/plain": [
       "[('john', 'lopez', 35),\n",
       " ('thomas', 'edwards', 45),\n",
       " ('stephanie', 'johnson', 32)]"
      ]
     },
     "execution_count": 40,
     "metadata": {},
     "output_type": "execute_result"
    }
   ],
   "source": [
    "def hobbyQuery(h_name, h_kind, h_setting):\n",
    "    query = \"\"\"\n",
    "    select first_name, last_name, age \n",
    "    from people, hasHobby, hobby\n",
    "    Where id = pid AND hobbyName = name\n",
    "    \"\"\"\n",
    "    if h_name == \"\":\n",
    "        pass\n",
    "    else:\n",
    "        query += \"AND name = '{}'\".format(h_name)\n",
    "    if h_kind == \"\":\n",
    "        pass\n",
    "    else:\n",
    "        query += \"AND kind = '{}'\".format(h_kind)\n",
    "    if h_setting == \"\":\n",
    "        pass\n",
    "    else:\n",
    "        query += \"AND setting = '{}'\".format(h_setting)\n",
    "    return query\n",
    "\n",
    "query = hobbyQuery('fishing', '', '')\n",
    "print(query)\n",
    "cur.execute(query).fetchall()"
   ]
  },
  {
   "cell_type": "code",
   "execution_count": 41,
   "id": "4916755c",
   "metadata": {},
   "outputs": [
    {
     "name": "stdout",
     "output_type": "stream",
     "text": [
      "\n",
      "    select first_name, last_name, age \n",
      "    from people, worksAs, profession\n",
      "    Where id = pid AND professionName = name\n",
      "    AND name = 'chef'AND company = 'case western'AND field = 'restaurant'\n"
     ]
    },
    {
     "data": {
      "text/plain": [
       "[('thomas', 'edwards', 45)]"
      ]
     },
     "execution_count": 41,
     "metadata": {},
     "output_type": "execute_result"
    }
   ],
   "source": [
    "def jobQuery(p_name, p_company, p_field):\n",
    "    query = \"\"\"\n",
    "    select first_name, last_name, age \n",
    "    from people, worksAs, profession\n",
    "    Where id = pid AND professionName = name\n",
    "    \"\"\"\n",
    "    if p_name == \"\":\n",
    "        pass\n",
    "    else:\n",
    "        query += \"AND name = '{}'\".format(p_name)\n",
    "    if p_company == \"\":\n",
    "        pass\n",
    "    else:\n",
    "        query += \"AND company = '{}'\".format(p_company)\n",
    "    if p_field == \"\":\n",
    "        pass\n",
    "    else:\n",
    "        query += \"AND field = '{}'\".format(p_field)\n",
    "    return query\n",
    "\n",
    "query = jobQuery('chef', 'case western', 'restaurant')\n",
    "print(query)\n",
    "cur.execute(query).fetchall()"
   ]
  },
  {
   "cell_type": "code",
   "execution_count": 42,
   "id": "37654d0e",
   "metadata": {},
   "outputs": [
    {
     "name": "stdout",
     "output_type": "stream",
     "text": [
      "\n",
      "    select first_name, last_name, age \n",
      "    from people, studdied, institution\n",
      "    Where id = pid AND instName = name\n",
      "    AND major = 'creative writing'\n"
     ]
    },
    {
     "data": {
      "text/plain": [
       "[('lisa', 'oneal', 25)]"
      ]
     },
     "execution_count": 42,
     "metadata": {},
     "output_type": "execute_result"
    }
   ],
   "source": [
    "def educationQuery(i_name, i_type, i_major, i_degree):\n",
    "    query = \"\"\"\n",
    "    select first_name, last_name, age \n",
    "    from people, studdied, institution\n",
    "    Where id = pid AND instName = name\n",
    "    \"\"\"\n",
    "    if i_name == \"\":\n",
    "        pass\n",
    "    else:\n",
    "        query += \"AND name = '{}'\".format(i_name)\n",
    "    if i_type == \"\":\n",
    "        pass\n",
    "    else:\n",
    "        query += \"AND type = '{}'\".format(i_type)\n",
    "    if i_major == \"\":\n",
    "        pass\n",
    "    else:\n",
    "        query += \"AND major = '{}'\".format(i_major)\n",
    "    if i_degree == \"\":\n",
    "        pass\n",
    "    else:\n",
    "        query += \"AND degreeType = '{}'\".format(i_degree)\n",
    "    return query\n",
    "\n",
    "query = educationQuery('', '', 'creative writing', '')\n",
    "print(query)\n",
    "cur.execute(query).fetchall()"
   ]
  },
  {
   "cell_type": "code",
   "execution_count": 43,
   "id": "3be6f94c",
   "metadata": {},
   "outputs": [
    {
     "data": {
      "text/plain": [
       "[('betty', 'mitchel', 30),\n",
       " ('charles', 'connors', 39),\n",
       " ('john', 'lopez', 35),\n",
       " ('jennifer', 'lafrance', 43),\n",
       " ('joe', 'nelson', 44),\n",
       " ('thomas', 'edwards', 45),\n",
       " ('quin', 'doe', 50),\n",
       " ('patricia', 'rogers', 39),\n",
       " ('mark', 'williams', 30),\n",
       " ('will', 'michaels', 42),\n",
       " ('grace', 'robinson', 34),\n",
       " ('matthew', 'richardson', 33),\n",
       " ('stephanie', 'johnson', 32)]"
      ]
     },
     "execution_count": 43,
     "metadata": {},
     "output_type": "execute_result"
    }
   ],
   "source": [
    "maxAge = 50\n",
    "minAge = 30\n",
    "cur.execute(\"\"\"select first_name, last_name, age from people \n",
    "        where age >= :minAge\n",
    "        and age <= :maxAge\"\"\"\n",
    "            , {'minAge': minAge, 'maxAge': maxAge}).fetchall()"
   ]
  },
  {
   "cell_type": "code",
   "execution_count": 5,
   "id": "e9a9dda7",
   "metadata": {},
   "outputs": [
    {
     "data": {
      "text/plain": [
       "[('betty', 'mitchel', 30),\n",
       " ('charles', 'connors', 39),\n",
       " ('john', 'lopez', 35),\n",
       " ('jennifer', 'lafrance', 43),\n",
       " ('joe', 'nelson', 44),\n",
       " ('thomas', 'edwards', 45),\n",
       " ('quin', 'doe', 50),\n",
       " ('patricia', 'rogers', 39),\n",
       " ('mark', 'williams', 30),\n",
       " ('will', 'michaels', 42),\n",
       " ('grace', 'robinson', 34),\n",
       " ('matthew', 'richardson', 33),\n",
       " ('stephanie', 'johnson', 32)]"
      ]
     },
     "execution_count": 5,
     "metadata": {},
     "output_type": "execute_result"
    }
   ],
   "source": [
    "def ageQuery(min, max):\n",
    "    query = \"select first_name, last_name, age from people where\"\n",
    "    if min > 0 and max < 0:\n",
    "        query += \" age >= {} \".format(min)\n",
    "    elif max > 0 and min < 0:\n",
    "        query += \" age <= {} \".format(max)\n",
    "    else:\n",
    "        query += \" age >= {} AND \".format(min)\n",
    "        query += \" age <= {} \".format(max)\n",
    "    return query\n",
    "\n",
    "query = ageQuery(30,50)\n",
    "cur.execute(query).fetchall()"
   ]
  },
  {
   "cell_type": "code",
   "execution_count": null,
   "id": "c6fa3ca2",
   "metadata": {},
   "outputs": [],
   "source": []
  }
 ],
 "metadata": {
  "kernelspec": {
   "display_name": "Python 3 (ipykernel)",
   "language": "python",
   "name": "python3"
  },
  "language_info": {
   "codemirror_mode": {
    "name": "ipython",
    "version": 3
   },
   "file_extension": ".py",
   "mimetype": "text/x-python",
   "name": "python",
   "nbconvert_exporter": "python",
   "pygments_lexer": "ipython3",
   "version": "3.10.2"
  }
 },
 "nbformat": 4,
 "nbformat_minor": 5
}
