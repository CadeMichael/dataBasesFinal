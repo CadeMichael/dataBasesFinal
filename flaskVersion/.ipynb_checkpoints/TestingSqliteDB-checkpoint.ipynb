{
 "cells": [
  {
   "cell_type": "code",
   "execution_count": 6,
   "id": "dfe49bde",
   "metadata": {},
   "outputs": [],
   "source": [
    "import sqlite3\n",
    "import os"
   ]
  },
  {
   "cell_type": "code",
   "execution_count": 14,
   "id": "3e0ddb93",
   "metadata": {},
   "outputs": [],
   "source": [
    "con = sqlite3.connect('notebook.db')\n",
    "cur = con.cursor()"
   ]
  },
  {
   "cell_type": "code",
   "execution_count": 11,
   "id": "c3abd3e6",
   "metadata": {},
   "outputs": [],
   "source": [
    "# delete the db to start over during testing\n",
    "os.remove('notebook.db') "
   ]
  },
  {
   "cell_type": "code",
   "execution_count": 16,
   "id": "6c21fd14",
   "metadata": {},
   "outputs": [
    {
     "name": "stdout",
     "output_type": "stream",
     "text": [
      "table already made\n"
     ]
    }
   ],
   "source": [
    "try: \n",
    "    cur.execute(\"\"\"CREATE TABLE people (\n",
    "    first_name TEXT,\n",
    "    last_name TEXT,\n",
    "    email TEXT\n",
    "    )    \n",
    "    \"\"\")\n",
    "except:\n",
    "    print('table already made')"
   ]
  },
  {
   "cell_type": "code",
   "execution_count": 23,
   "id": "35aa29e4",
   "metadata": {},
   "outputs": [
    {
     "data": {
      "text/plain": [
       "<sqlite3.Cursor at 0x7f95b09c1180>"
      ]
     },
     "execution_count": 23,
     "metadata": {},
     "output_type": "execute_result"
    }
   ],
   "source": [
    "cur.execute(\"\"\"\n",
    "INSERT INTO people VALUES (\n",
    "    'Cade',\n",
    "    'Lueker',\n",
    "    'cade.lueker@gmail.com'\n",
    ")\n",
    "\"\"\")"
   ]
  },
  {
   "cell_type": "code",
   "execution_count": 10,
   "id": "f817ebed",
   "metadata": {},
   "outputs": [],
   "source": [
    "# pushes this code into the database\n",
    "con.commit() \n",
    "# close connection to the db\n",
    "con.close()"
   ]
  },
  {
   "cell_type": "markdown",
   "id": "160d87be",
   "metadata": {},
   "source": [
    "## testing adding a hobby table\n",
    "- d\n",
    "- b"
   ]
  },
  {
   "cell_type": "code",
   "execution_count": null,
   "id": "80ac3469",
   "metadata": {},
   "outputs": [],
   "source": []
  }
 ],
 "metadata": {
  "kernelspec": {
   "display_name": "Python 3 (ipykernel)",
   "language": "python",
   "name": "python3"
  },
  "language_info": {
   "codemirror_mode": {
    "name": "ipython",
    "version": 3
   },
   "file_extension": ".py",
   "mimetype": "text/x-python",
   "name": "python",
   "nbconvert_exporter": "python",
   "pygments_lexer": "ipython3",
   "version": "3.10.4"
  }
 },
 "nbformat": 4,
 "nbformat_minor": 5
}
